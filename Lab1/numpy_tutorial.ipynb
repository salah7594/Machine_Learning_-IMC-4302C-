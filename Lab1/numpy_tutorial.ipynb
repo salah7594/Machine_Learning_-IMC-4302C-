{
 "cells": [
  {
   "cell_type": "markdown",
   "metadata": {},
   "source": [
    "# Python and Numpy Tutorial\n",
    "\n",
    "Numpy is a computational library for Python that is optimized for operations on multi-dimensional arrays. In this notebook we will use numpy to work with 1-d arrays (often called vectors) and 2-d arrays (often called matrices).\n",
    "\n",
    "For a the full user guide and reference for [numpy](http://www.numpy.org/) see: http://docs.scipy.org/doc/numpy/"
   ]
  },
  {
   "cell_type": "code",
   "execution_count": null,
   "metadata": {
    "collapsed": true
   },
   "outputs": [],
   "source": [
    "import numpy as np # importing this way allows us to refer to numpy as np"
   ]
  },
  {
   "cell_type": "markdown",
   "metadata": {},
   "source": [
    "### Creating Numpy Arrays\n",
    "New arrays can be made in several ways. We can take an existing list and convert it to a numpy array:"
   ]
  },
  {
   "cell_type": "code",
   "execution_count": null,
   "metadata": {},
   "outputs": [],
   "source": [
    "lst = [1., 2., 3., 4.]\n",
    "np_array = np.array(lst)\n",
    "\n",
    "print (lst)\n",
    "print (type(lst))\n",
    "print (np_array)\n",
    "print (type(np_array))\n",
    "\n",
    "\n",
    "# we can also use\n",
    "print()\n",
    "a = np.arange(1,30,3)\n",
    "b = np.linspace(0,9,10)\n",
    "print('a = ',a)\n",
    "print(\"elements of 'a' has '{}' as data type\".format(a.dtype))\n",
    "print(\"array 'b' = {0} and its data type: '{1}'\".format(b,b.dtype))"
   ]
  },
  {
   "cell_type": "markdown",
   "metadata": {},
   "source": [
    "### Direct operation on array"
   ]
  },
  {
   "cell_type": "code",
   "execution_count": null,
   "metadata": {},
   "outputs": [],
   "source": [
    "c=a+b\n",
    "print(c)\n",
    "\n",
    "print()\n",
    "ones= np.ones(10)\n",
    "print(ones)\n",
    "print(b-ones)\n",
    "print(b*ones)\n",
    "\n",
    "print()\n",
    "print(b*b)\n",
    "print(b**2)\n",
    "boole = b*b==b**2\n",
    "print(boole)\n",
    "print(boole.dtype)"
   ]
  },
  {
   "cell_type": "code",
   "execution_count": null,
   "metadata": {},
   "outputs": [],
   "source": [
    "matrix = np.array([[1,2,3],[4,5,6]]) \n",
    "print(\"'matrix' = \\n {}\\n with shape '{}'\".format(matrix,matrix.shape))\n",
    "print(\"that means it has {} row(s) and {} column(s)\".format(matrix.shape[0],matrix.shape[1]))\n",
    "print(\"transpose of matrix =\\n\",matrix.transpose(),\"\\n with shape\",matrix.transpose().shape)\n",
    "\n",
    "zeros=np.zeros((2,3))\n",
    "print()\n",
    "print (matrix+zeros)\n",
    "print()\n",
    "print (matrix*zeros)\n",
    "print()\n",
    "print (matrix*matrix)"
   ]
  },
  {
   "cell_type": "markdown",
   "metadata": {},
   "source": [
    "### Some Numpy Functions"
   ]
  },
  {
   "cell_type": "code",
   "execution_count": null,
   "metadata": {},
   "outputs": [],
   "source": [
    "# dot product\n",
    "x=np.array([[1],[1],[1]],dtype=float)\n",
    "y=np.dot(matrix,x)\n",
    "print(\"matrix.x = \\n{}\".format(y))\n",
    "print(y.shape)\n",
    "\n",
    "# matrix product\n",
    "print()\n",
    "A=np.dot(matrix,zeros.transpose())\n",
    "print(A)\n",
    "print(A.shape)\n"
   ]
  },
  {
   "cell_type": "code",
   "execution_count": null,
   "metadata": {},
   "outputs": [],
   "source": [
    "print(a)\n",
    "print(b)\n",
    "d1=np.dot(a,b)\n",
    "print(d1)\n",
    "d2=np.sum(a*b)\n",
    "print(d2)\n",
    "\n",
    "print()\n",
    "print(\"the mean of vector {} is {}\".format(b,b.mean()))\n",
    "print(\"the standard deviation of vector {} is {}\".format(b,b.std()))\n",
    "print(\"the max of vector {} is {}\".format(b,b.max()))\n",
    "print(\"the min of vector {} is {}\".format(b,b.min()))"
   ]
  },
  {
   "cell_type": "code",
   "execution_count": null,
   "metadata": {},
   "outputs": [],
   "source": [
    "print()\n",
    "m=np.arange(7,13)\n",
    "print(m)\n",
    "m1=m.reshape((2,3))\n",
    "print(\"m1=\\n\",m1)\n",
    "print(\"matrix=\\n\",matrix)\n",
    "M1=np.concatenate((matrix,m1),axis=0)\n",
    "print(\"M1=\\n\",M1)\n",
    "M2=np.concatenate((matrix,m1),axis=1)\n",
    "print(\"M2=\\n\",M2)\n",
    "\n",
    "print()\n",
    "print(\"matrix=\\n\",matrix)\n",
    "print(matrix.shape)\n",
    "Matrix=np.tile(matrix,(2,4))\n",
    "print(\"Matrix=\\n\",Matrix)\n",
    "print(Matrix.shape)\n",
    "\n"
   ]
  },
  {
   "cell_type": "markdown",
   "metadata": {},
   "source": [
    "### Indexing"
   ]
  },
  {
   "cell_type": "code",
   "execution_count": null,
   "metadata": {},
   "outputs": [],
   "source": [
    "i=3\n",
    "j=1\n",
    "print(\"M1=\\n\",M1)\n",
    "print(\"M1[{},{}] = {}\".format(i,j,M1[i,j]))\n",
    "print(\"the {}th row of the matrix M1 is: \\n{}\".format(i,M1[i,:]))\n",
    "print(\"the {}th columns of the matrix M1 is: \\n{}\".format(j,M1[:,j]))\n",
    "\n",
    "print()\n",
    "print(\"b=\",b)\n",
    "print(\"b[{}] = {}\".format(i,b[i]))\n",
    "print(b.shape)\n",
    "b1=b[:,np.newaxis]\n",
    "print(\"b1 = \",b1)\n",
    "print(b1.shape)\n",
    "print(\"b1[{},0] = {}\".format(i,b1[i,0]))"
   ]
  }
 ],
 "metadata": {
  "kernelspec": {
   "display_name": "Python 3",
   "language": "python",
   "name": "python3"
  },
  "language_info": {
   "codemirror_mode": {
    "name": "ipython",
    "version": 3
   },
   "file_extension": ".py",
   "mimetype": "text/x-python",
   "name": "python",
   "nbconvert_exporter": "python",
   "pygments_lexer": "ipython3",
   "version": "3.6.3"
  }
 },
 "nbformat": 4,
 "nbformat_minor": 1
}
