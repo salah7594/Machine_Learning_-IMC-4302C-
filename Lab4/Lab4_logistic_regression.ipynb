{
 "cells": [
  {
   "cell_type": "markdown",
   "metadata": {},
   "source": [
    "# Lab 4: Logistic Regression (continuation) \n",
    "\n",
    "In this practice session, you will work on \"Titanic\" database example (from the website [http://www.data-mania.com/](http://www.data-mania.com/)). This database contains different information about passengers of the sunk \"RMS Titanic\" ocean liner. The goal is to build classifier that predict if a passenger has survived or not the catastrophe based on the passenger age, sex, ticket fare ...\n",
    "\n",
    "The \"Titanic database lack some information of some passengers. In the other hand, it has some unusable information for survivability prediction like ticket or cabin number. Hence, in the first part you are invited to process the training data by removing unnecessary information and filling the missing data.\n",
    "\n",
    "In the second part, you should train a logistic classifier using [**sklearn**](http://scikit-learn.org/stable/) library. then, you could assess its accuracy with some [**metrics**](http://scikit-learn.org/stable/modules/classes.html#module-sklearn.metrics) of sklearn. \n",
    "\n",
    "### Load and process dataset\n",
    "In this session, we will use new library for data structure and plotting. The [**pandas**](http://pandas.pydata.org/pandas-docs/stable/) library offer the possibility to store data in [DataFrame](https://pandas.pydata.org/pandas-docs/stable/generated/pandas.DataFrame.html) structure which is similar to classic 2-D array but it has labels for rows and columns and we can use these labels to index a specific component in the dataframe.  \n",
    "The [**seaborn**](https://seaborn.pydata.org/index.html) library helps us to generate meaningful statistical graphics by extending functionalities in matplotlib library.\n",
    "\n",
    "<font color=\"blue\">**Question 1: **</font>\n",
    "- Load data from the given \"url\" in \"titanic\" variable and explore it (what are attributes/size...?).  \n",
    "**Hint:** You could use [read_csv](https://pandas.pydata.org/pandas-docs/stable/generated/pandas.read_csv.html) function from pandas library."
   ]
  },
  {
   "cell_type": "code",
   "execution_count": null,
   "metadata": {},
   "outputs": [],
   "source": [
    "# import libraries\n",
    "import numpy as np\n",
    "import pandas as pd\n",
    "import seaborn as sns\n",
    "import matplotlib.pyplot as plt\n",
    "\n",
    "from sklearn.linear_model import LogisticRegression\n",
    "from sklearn import metrics \n",
    "\n",
    "# load titanic dataset using the url below\n",
    "url = 'https://raw.githubusercontent.com/BigDataGal/Python-for-Data-Science/master/titanic-train.csv'\n",
    "titanic = # ** your code here **\n",
    "\n",
    "# explore data\n",
    "print(\"The size of titanic dataset is: \",titanic.shape)\n",
    "print(\"Features name are: \",titanic.columns)\n",
    "\n",
    "print(\"\\nSome information about the dataset:\")\n",
    "titanic.info()\n",
    "print(\"\\nHow dataset looks like:\")\n",
    "titanic.head()\n"
   ]
  },
  {
   "cell_type": "markdown",
   "metadata": {},
   "source": [
    "<font color=\"blue\">**Question 2: **</font>\n",
    "- What is the number of samples (passengers) in each class (y=1:survived, y=0:did not survive).  \n",
    "**Hint:** You could index dataframe with boolean condition on \"Survived\" column. You could also use \"[where](https://pandas.pydata.org/pandas-docs/stable/generated/pandas.DataFrame.where.html)\" function from pandas library."
   ]
  },
  {
   "cell_type": "code",
   "execution_count": null,
   "metadata": {},
   "outputs": [],
   "source": [
    "# determine the number of survived/not survived to understand more dataset characteristics \n",
    "nbr_surviv = # ** your code here **\n",
    "nbr_died = # ** your code here **\n",
    "\n",
    "print(\"The number of survived passenger in titanic dataset is: \",nbr_surviv)\n",
    "print(\"The number of died passenger in titanic dataset is: \",nbr_died)\n"
   ]
  },
  {
   "cell_type": "markdown",
   "metadata": {},
   "source": [
    "#### Remove not significant features\n",
    "Some features in the \"titanic\" dataset are meaningless and they doesn't help to predict survivability. Thus, we should remove them.\n",
    "\n",
    "<font color=\"blue\">**Question 3: **</font>\n",
    "- The \"Name\" and \"cabin\" number are two meaningless features and  there are two other features try to guess them. Then, remove all these 4 features from \"titanic\" dataframe.  \n",
    "**Hint:** You could use \"[drop](https://pandas.pydata.org/pandas-docs/stable/generated/pandas.DataFrame.drop.html)\" function from pandas library."
   ]
  },
  {
   "cell_type": "code",
   "execution_count": null,
   "metadata": {},
   "outputs": [],
   "source": [
    "titanic = # ** your code here **\n",
    "titanic.head()"
   ]
  },
  {
   "cell_type": "markdown",
   "metadata": {},
   "source": [
    "#### Deal with missing values\n",
    "We note from the printed information about our dataset (with the command titanic.info()), that the \"Age\", \"Cabin\" and \"Embarked\" features have some missing values for some passengers. \n",
    "\n",
    "First, we will try to estimate missing \"Age\" from the passenger class \"Pclass\". If, we calculate the mean age of each class, we note that the 1st class passengers tend to be older than 3rd class manager. Hence, you should fill missing age values with the mean age of the corresponding passenger class."
   ]
  },
  {
   "cell_type": "code",
   "execution_count": null,
   "metadata": {},
   "outputs": [],
   "source": [
    "%matplotlib inline\n",
    "\n",
    "# visualize Age box plot for each passenger class\n",
    "sns.set_style('whitegrid')\n",
    "sns.boxplot(x='Pclass', y='Age', data=titanic, palette='hls')\n",
    "plt.show()\n",
    "\n",
    "titanic.groupby('Pclass').mean()\n"
   ]
  },
  {
   "cell_type": "markdown",
   "metadata": {},
   "source": [
    "<font color=\"blue\">**Question 4: **</font>\n",
    "- Fill the \"approx_age\" list with the estimated age from the previous means table. Put the estimated age for 1st class in the beginning of the list and for 3rd class at the end. "
   ]
  },
  {
   "cell_type": "code",
   "execution_count": null,
   "metadata": {},
   "outputs": [],
   "source": [
    "# estimate missing Age\n",
    "approx_age = # ** your code here **\n",
    "\n",
    "null_age_idx=pd.isnull(titanic.Age)    # you could also use:  null_age_idx=pd.isnull(titanic['Age'])\n",
    "titanic.loc[null_age_idx,'Age']=[approx_age[i-1] for i in titanic.loc[null_age_idx,'Pclass']]\n",
    "\n",
    "print(\"The number of missing value per feature:\\n\",titanic.isnull().sum())"
   ]
  },
  {
   "cell_type": "markdown",
   "metadata": {
    "collapsed": true
   },
   "source": [
    "- We note that there is two passengers that we don't know their embarking port. We could discard this two samples by dropping them.  \n",
    "**Hint:** We could use \"[dropna](https://pandas.pydata.org/pandas-docs/stable/generated/pandas.DataFrame.dropna.html)\" function from pandas library."
   ]
  },
  {
   "cell_type": "code",
   "execution_count": null,
   "metadata": {},
   "outputs": [],
   "source": [
    "titanic=titanic.dropna()\n",
    "titanic.isnull().sum()"
   ]
  },
  {
   "cell_type": "markdown",
   "metadata": {},
   "source": [
    "#### Insert dummies variable\n",
    "In the \"titanic\" dataset contains some qualitative features like \"Sex\" and \"Embarked\" port. In order to make the  useful in our computational model we should encode them with a numeric way with introducing order between \"Embarked\" categories for instance.  \n",
    "\n",
    "In our case, we will use dummies variable method which consist on creating new boolean variable for each categories and encode each categories with \"True\" on the corresponding dummy variable."
   ]
  },
  {
   "cell_type": "code",
   "execution_count": null,
   "metadata": {},
   "outputs": [],
   "source": [
    "# create \"sex\" dummy variable\n",
    "sex = pd.get_dummies(titanic['Sex'],drop_first=True)\n",
    "print(\"Remplacement 'Sex' dummy variable:\\n\",sex.head())\n",
    "\n",
    "# create \"embark_port\" dummies variables\n",
    "embark_port = pd.get_dummies(titanic['Embarked'],drop_first=True)\n",
    "print(\"Remplacement 'Embarked' dummies variables:\\n\",embark_port.head())\n",
    "\n",
    "# remove qualitative features\n",
    "titanic.drop(['Sex', 'Embarked'],axis=1,inplace=True)\n",
    "\n",
    "# insert new dummies variables to replace qualitative features\n",
    "titanic_dmy = pd.concat([titanic,sex,embark_port],axis=1)\n",
    "titanic_dmy.head()"
   ]
  },
  {
   "cell_type": "markdown",
   "metadata": {},
   "source": [
    "#### Study correlation between feature\n",
    "\n",
    "Execute the following code block to visualize the  correlation matrix of our processed dataset."
   ]
  },
  {
   "cell_type": "code",
   "execution_count": null,
   "metadata": {},
   "outputs": [],
   "source": [
    "from matplotlib import cm\n",
    "sns.heatmap(titanic_dmy.corr(),cmap=cm.coolwarm,annot=True, fmt=\".2f\")  "
   ]
  },
  {
   "cell_type": "markdown",
   "metadata": {},
   "source": [
    "From the correlation matrix, We note that passenger \"Pclass\" and ticket \"Fare\" features are correlated (correlation factor $> 0.5 $). Thus, we could keep only one of them. we will keep \"Pclass\" and remove \"Fare\" feature since it is less expressive.\n",
    "\n",
    "We note also that, \"Survived\" and \"male\" features are also correlated. This means that \"male\" feature could give high intuition about if the passenger had \"Survived\"."
   ]
  },
  {
   "cell_type": "code",
   "execution_count": null,
   "metadata": {},
   "outputs": [],
   "source": [
    "titanic_dmy=titanic_dmy.drop(['Fare'],axis=1)\n",
    "\n",
    "print(\"\\nInformation about the final dataset:\")\n",
    "titanic_dmy.info()\n",
    "\n",
    "titanic_dmy.head()"
   ]
  },
  {
   "cell_type": "markdown",
   "metadata": {},
   "source": [
    "### Train logistic classifier and predict\n",
    "<font color=\"blue\">**Question 5: **</font>\n",
    "- Use \"[fit](http://scikit-learn.org/stable/modules/generated/sklearn.linear_model.LogisticRegression.html#sklearn.linear_model.LogisticRegression.fit)\" function to train the logistic model \"Logistic_Regr\"\n",
    "- Use \"[predict](http://scikit-learn.org/stable/modules/generated/sklearn.linear_model.LogisticRegression.html#sklearn.linear_model.LogisticRegression.predict)\" function to predict if passengers (X array) is survived or not.\n",
    "- calculate the accuracy (number of good prediction/number of all passengers) of the logistic model."
   ]
  },
  {
   "cell_type": "code",
   "execution_count": null,
   "metadata": {},
   "outputs": [],
   "source": [
    "X = titanic_dmy.iloc[:,1:8].values\n",
    "y = titanic_dmy.iloc[:,0].values\n",
    "\n",
    "# train logistic classifier\n",
    "Logistic_Regr = LogisticRegression()\n",
    "# ** your code here **\n",
    "\n",
    "# predict survavibality\n",
    "y_pred = # ** your code here **\n",
    "\n",
    "# calculate accuracy\n",
    "accuracy = # ** your code here **\n",
    "print(\"The accuracy of our logistic classifier is: \", accuracy)\n"
   ]
  }
 ],
 "metadata": {
  "kernelspec": {
   "display_name": "Python 3",
   "language": "python",
   "name": "python3"
  },
  "language_info": {
   "codemirror_mode": {
    "name": "ipython",
    "version": 3
   },
   "file_extension": ".py",
   "mimetype": "text/x-python",
   "name": "python",
   "nbconvert_exporter": "python",
   "pygments_lexer": "ipython3",
   "version": "3.6.3"
  }
 },
 "nbformat": 4,
 "nbformat_minor": 1
}
