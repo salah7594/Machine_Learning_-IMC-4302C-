{
 "cells": [
  {
   "cell_type": "markdown",
   "metadata": {},
   "source": [
    "# Lab 2: Linear Regression (continuation)\n",
    "\n",
    "In this second practice session, we will train our linear model and predict outputs by using predefined functions in \n",
    "[**sklearn Library**](http://scikit-learn.org/stable/).  \n",
    "This library has many classes and modules that are usefull for different problems of machine learning. During this seession, we will use [**Linear Regression**](http://scikit-learn.org/stable/modules/generated/sklearn.linear_model.LinearRegression.html) class from [**Linear Model**](http://scikit-learn.org/stable/modules/classes.html#module-sklearn.linear_model) module.  \n",
    "\n",
    "<font color=\"blue\">**Question 1: **</font> \n",
    "- Train the linear model with \"X\" and \"y\" data.  \n",
    "**Hint**: use [fit](http://scikit-learn.org/stable/modules/generated/sklearn.linear_model.LinearRegression.html#sklearn.linear_model.LinearRegression.fit) function from linear regression class.\n",
    "- Estimate the price of a house with 330 m² area and 5 rooms.\n",
    "**Hint**: use [predict]() function from linear regression class\n",
    "\n",
    "<font color=\"blue\">**Question 2: **</font> Compare coefficients, intercept and performance of the linear model trained with sklearn library and the one trained with gradient descent."
   ]
  },
  {
   "cell_type": "code",
   "execution_count": null,
   "metadata": {
    "collapsed": true
   },
   "outputs": [],
   "source": [
    "import numpy as np\n",
    "from sklearn import  linear_model\n",
    "from sklearn.metrics import mean_squared_error\n",
    "\n",
    "import matplotlib.pyplot as plt\n",
    "from mpl_toolkits.mplot3d.axes3d import*\n",
    "from matplotlib import cm\n",
    "%matplotlib notebook\n",
    "\n",
    "house_data = np.loadtxt('house.csv') \n",
    "\n",
    "m = house_data.shape[0]         # number of sample\n",
    "x_1 = house_data[:,0,np.newaxis]\n",
    "x_2 = house_data[:,1,np.newaxis]\n",
    "\n",
    "X = np.concatenate((x_1,x_2),axis=1)\n",
    "n = house_data.shape[0]         # number of features\n",
    "y = house_data[:,2,np.newaxis]\n",
    "\n",
    "regr = linear_model.LinearRegression()\n",
    "# your code here\n",
    "\n",
    "\n",
    "# coefficients and intercept\n",
    "print('Coefficients: ', regr.coef_)\n",
    "print('Intercept: ', regr.intercept_)\n",
    "\n",
    "# use the trained model to predict\n",
    "prediction=regr.predict(X)\n",
    "\n",
    "area = 330\n",
    "nbr_room = 5\n",
    "price = # your code here\n",
    "print(\"The predicted price of a {0} m² house with {1} rooms is: {2} k€\".format(area,nbr_room,price[0,0]))\n",
    "\n",
    "# mean squared error and R^2 score\n",
    "print()\n",
    "print(\"Mean squared error: %.2f\"% mean_squared_error(y, prediction))\n",
    "print(\"Final error = \",np.sum((prediction-y)**2)/(2*m))\n",
    "print('R² score: %.2f' % regr.score(X, y))\n",
    "\n",
    "# plot the model\n",
    "fig=plt.figure('Linear model plot')\n",
    "plt.scatter(x_1, y,  color='black')\n",
    "plt.plot(np.sort(x_1,axis=0),prediction[np.argsort(x_1,axis=0),0], color='red', linewidth=3)\n",
    "\n",
    "\n",
    "fig=plt.figure('Surface plot')\n",
    "ax=Axes3D(fig)\n",
    "ax.scatter(x_1,x_2,y)\n",
    "\n",
    "x1 = np.linspace(0,400,400) \n",
    "x2 = np.arange(13)\n",
    "x1, x2 = np.meshgrid(x1, x2)\n",
    "\n",
    "X3=np.concatenate((x1[:,:,np.newaxis],x2[:,:,np.newaxis]),axis=-1)\n",
    "X3bis=X3.reshape((X3.shape[0]*X3.shape[1],X3.shape[2]))\n",
    "Zbis =  regr.predict(X3bis)\n",
    "Z=Zbis.reshape((X3.shape[0],X3.shape[1]))\n",
    "\n",
    "ax.plot_surface(x1,x2,Z,rstride=1,cstride=1,cmap=cm.jet,linewidth=1,antialiased=True)\n",
    "ax.set_xlabel('house area')\n",
    "ax.set_ylabel('room number')\n",
    "ax.set_zlabel('house price')\n"
   ]
  }
 ],
 "metadata": {
  "kernelspec": {
   "display_name": "Python 3",
   "language": "python",
   "name": "python3"
  },
  "language_info": {
   "codemirror_mode": {
    "name": "ipython",
    "version": 3
   },
   "file_extension": ".py",
   "mimetype": "text/x-python",
   "name": "python",
   "nbconvert_exporter": "python",
   "pygments_lexer": "ipython3",
   "version": "3.6.3"
  }
 },
 "nbformat": 4,
 "nbformat_minor": 1
}
